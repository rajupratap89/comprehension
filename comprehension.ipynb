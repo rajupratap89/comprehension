{
 "cells": [
  {
   "cell_type": "code",
   "execution_count": 3,
   "id": "1c5b0598-2611-468e-8a14-2eace949193a",
   "metadata": {},
   "outputs": [
    {
     "name": "stdout",
     "output_type": "stream",
     "text": [
      "1\n",
      "2\n",
      "3\n",
      "4\n",
      "5\n",
      "6\n"
     ]
    }
   ],
   "source": [
    "l=[1,2,3,4,5,6]\n",
    "l1=[]\n",
    "for i in l:\n",
    "    print(i)\n",
    "    l1.append(i**2)"
   ]
  },
  {
   "cell_type": "code",
   "execution_count": 4,
   "id": "1dfc051b-e869-4ffc-a66e-73964d1c4f52",
   "metadata": {},
   "outputs": [
    {
     "data": {
      "text/plain": [
       "[1, 4, 9, 16, 25, 36]"
      ]
     },
     "execution_count": 4,
     "metadata": {},
     "output_type": "execute_result"
    }
   ],
   "source": [
    "l1"
   ]
  },
  {
   "cell_type": "code",
   "execution_count": 2,
   "id": "8aa09525-8fb2-45b7-85c6-ac8fb562f589",
   "metadata": {},
   "outputs": [],
   "source": [
    "l=[1,2,3,4,5,6]"
   ]
  },
  {
   "cell_type": "code",
   "execution_count": 3,
   "id": "38642989-4fe6-43eb-b514-3931d4d43826",
   "metadata": {},
   "outputs": [
    {
     "data": {
      "text/plain": [
       "[1, 4, 9, 16, 25, 36]"
      ]
     },
     "execution_count": 3,
     "metadata": {},
     "output_type": "execute_result"
    }
   ],
   "source": [
    "[i**2 for i in l]"
   ]
  },
  {
   "cell_type": "code",
   "execution_count": 6,
   "id": "f7680bb9-127f-46a7-a72b-3c6da0dba2ba",
   "metadata": {},
   "outputs": [
    {
     "data": {
      "text/plain": [
       "[1, 3, 5]"
      ]
     },
     "execution_count": 6,
     "metadata": {},
     "output_type": "execute_result"
    }
   ],
   "source": [
    "[i for i in l if i % 2]"
   ]
  },
  {
   "cell_type": "code",
   "execution_count": 7,
   "id": "df65a5e1-2bec-43c6-b8b1-962a4f17fb2a",
   "metadata": {},
   "outputs": [],
   "source": [
    "l1=[\"raju\",\"kumar\",\"raj\",\"data science\"]"
   ]
  },
  {
   "cell_type": "code",
   "execution_count": 11,
   "id": "deb67f59-021a-4cda-b2fa-4642b26a1f67",
   "metadata": {},
   "outputs": [
    {
     "data": {
      "text/plain": [
       "['RAJU', 'KUMAR', 'RAJ', 'DATA SCIENCE']"
      ]
     },
     "execution_count": 11,
     "metadata": {},
     "output_type": "execute_result"
    }
   ],
   "source": [
    "[i.upper() for i in l1]"
   ]
  },
  {
   "cell_type": "code",
   "execution_count": 12,
   "id": "d29438b6-ca4e-4072-9a78-7a614877ccb0",
   "metadata": {},
   "outputs": [],
   "source": [
    "t=(\"maths\",\"science\",\"social studies\")"
   ]
  },
  {
   "cell_type": "code",
   "execution_count": 14,
   "id": "f51b75ee-7c77-47d1-ae6a-e01eca37bfc8",
   "metadata": {},
   "outputs": [
    {
     "data": {
      "text/plain": [
       "['MATHS', 'SCIENCE', 'SOCIAL STUDIES']"
      ]
     },
     "execution_count": 14,
     "metadata": {},
     "output_type": "execute_result"
    }
   ],
   "source": [
    "[i.upper() for i in t]"
   ]
  },
  {
   "cell_type": "code",
   "execution_count": 15,
   "id": "8b4e9e13-3928-49d6-8988-234be6d692f1",
   "metadata": {},
   "outputs": [],
   "source": [
    "d={\"key1\":1, \"key2\":2, \"key3\":3}"
   ]
  },
  {
   "cell_type": "code",
   "execution_count": 26,
   "id": "08733369-43e3-4797-a60f-6ed835c442e1",
   "metadata": {},
   "outputs": [
    {
     "data": {
      "text/plain": [
       "{'key1': 1, 'key2': 4, 'key3': 9}"
      ]
     },
     "execution_count": 26,
     "metadata": {},
     "output_type": "execute_result"
    }
   ],
   "source": [
    "{k:v**2 for k, v in d.items()}"
   ]
  },
  {
   "cell_type": "code",
   "execution_count": 27,
   "id": "e7c16548-faa7-4e2c-9ee2-b4e09c7dd7bc",
   "metadata": {},
   "outputs": [
    {
     "data": {
      "text/plain": [
       "{'key1': 1, 'key2': 2, 'key3': 3}"
      ]
     },
     "execution_count": 27,
     "metadata": {},
     "output_type": "execute_result"
    }
   ],
   "source": [
    "d"
   ]
  },
  {
   "cell_type": "code",
   "execution_count": 29,
   "id": "c7403e0e-42dd-4cc4-afee-5ba1ee01735f",
   "metadata": {},
   "outputs": [
    {
     "data": {
      "text/plain": [
       "{'key1': 1, 'key2': 2}"
      ]
     },
     "execution_count": 29,
     "metadata": {},
     "output_type": "execute_result"
    }
   ],
   "source": [
    "{k:v for k, v in d.items() if v < 3}"
   ]
  },
  {
   "cell_type": "code",
   "execution_count": null,
   "id": "51951012-09ce-4351-99c4-b44291f96be8",
   "metadata": {},
   "outputs": [],
   "source": []
  }
 ],
 "metadata": {
  "kernelspec": {
   "display_name": "Python 3 (ipykernel)",
   "language": "python",
   "name": "python3"
  },
  "language_info": {
   "codemirror_mode": {
    "name": "ipython",
    "version": 3
   },
   "file_extension": ".py",
   "mimetype": "text/x-python",
   "name": "python",
   "nbconvert_exporter": "python",
   "pygments_lexer": "ipython3",
   "version": "3.10.8"
  }
 },
 "nbformat": 4,
 "nbformat_minor": 5
}
